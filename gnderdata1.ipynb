{
 "cells": [
  {
   "cell_type": "code",
   "execution_count": 26,
   "id": "4543b2f1",
   "metadata": {},
   "outputs": [],
   "source": [
    "import pandas as pd\n",
    "import numpy as np\n",
    "from scipy import stats"
   ]
  },
  {
   "cell_type": "code",
   "execution_count": 7,
   "id": "6e04836c",
   "metadata": {},
   "outputs": [],
   "source": [
    "#upload csv\n",
    "file_path = 'C:\\\\Users\\\\siddh\\\\Downloads\\\\Gender_Inequality_Index.csv'\n",
    "df = pd.read_csv(file_path)\n"
   ]
  },
  {
   "cell_type": "code",
   "execution_count": 8,
   "id": "98b467cb",
   "metadata": {},
   "outputs": [
    {
     "name": "stdout",
     "output_type": "stream",
     "text": [
      "       Country Human_development    GII  Rank  Maternal_mortality  \\\n",
      "0  Switzerland         Very high  0.018   3.0                 5.0   \n",
      "1       Norway         Very high  0.016   2.0                 2.0   \n",
      "2      Iceland         Very high  0.043   8.0                 4.0   \n",
      "3    Hong Kong         Very high    NaN   NaN                 NaN   \n",
      "4    Australia         Very high  0.073  19.0                 6.0   \n",
      "\n",
      "   Adolescent_birth_rate  Seats_parliament  F_secondary_educ  \\\n",
      "0                    2.2              39.8              96.9   \n",
      "1                    2.3              45.0              99.1   \n",
      "2                    5.4              47.6              99.8   \n",
      "3                    1.6               NaN              77.1   \n",
      "4                    8.1              37.9              94.6   \n",
      "\n",
      "   M_secondary_educ  F_Labour_force  M_Labour_force  \n",
      "0              97.5            61.7            72.7  \n",
      "1              99.3            60.3            72.0  \n",
      "2              99.7            61.7            70.5  \n",
      "3              83.4            53.5            65.8  \n",
      "4              94.4            61.1            70.5  \n"
     ]
    }
   ],
   "source": [
    "print (df.head())"
   ]
  },
  {
   "cell_type": "code",
   "execution_count": 18,
   "id": "464b1afd",
   "metadata": {},
   "outputs": [],
   "source": [
    "#check null values\n",
    "df.isnull().sum()\n",
    "\n",
    "#drop rows with missing values\n",
    "df.dropna(inplace = True)\n",
    "\n",
    "#fill missing values\n",
    "df.fillna(0, inplace = True)\n",
    "\n",
    "#df.fillna(df.mean(), inplace = True)"
   ]
  },
  {
   "cell_type": "code",
   "execution_count": 32,
   "id": "8cbf3377",
   "metadata": {},
   "outputs": [
    {
     "name": "stdout",
     "output_type": "stream",
     "text": [
      "All duplicates Rows (boolean mask): \n",
      "0      False\n",
      "1      False\n",
      "2      False\n",
      "4      False\n",
      "5      False\n",
      "       ...  \n",
      "182    False\n",
      "183    False\n",
      "185    False\n",
      "186    False\n",
      "187    False\n",
      "Length: 162, dtype: bool\n",
      "Duplicate rows:\n",
      "Empty DataFrame\n",
      "Columns: [Country, Human_development, GII, Rank, Maternal_mortality, Adolescent_birth_rate, Seats_parliament, F_secondary_educ, M_secondary_educ, F_Labour_force, M_Labour_force]\n",
      "Index: []\n",
      "Number of duplicates are 0\n"
     ]
    },
    {
     "name": "stderr",
     "output_type": "stream",
     "text": [
      "C:\\Users\\siddh\\AppData\\Local\\Temp\\ipykernel_10816\\1840956694.py:17: SettingWithCopyWarning: \n",
      "A value is trying to be set on a copy of a slice from a DataFrame\n",
      "\n",
      "See the caveats in the documentation: https://pandas.pydata.org/pandas-docs/stable/user_guide/indexing.html#returning-a-view-versus-a-copy\n",
      "  df.drop_duplicates(inplace = True)\n"
     ]
    }
   ],
   "source": [
    "#identify duplicates in rows\n",
    "duplicates = df.duplicated()\n",
    "print(\"All duplicates Rows (boolean mask): \")\n",
    "print(duplicates)\n",
    "\n",
    "#display dup rows\n",
    "duplicate_rows = df[df.duplicated()]\n",
    "print(\"Duplicate rows:\")\n",
    "\n",
    "print(duplicate_rows)\n",
    "\n",
    "#count duplicates\n",
    "num_duplicates = df.duplicated().sum()\n",
    "print(f\"Number of duplicates are {num_duplicates}\")\n",
    "\n",
    "#remove duplicates\n",
    "df.drop_duplicates(inplace = True)\n"
   ]
  },
  {
   "cell_type": "code",
   "execution_count": 25,
   "id": "1080e58d",
   "metadata": {},
   "outputs": [],
   "source": [
    "#convert the column to specific datatype\n",
    "#df['Country'] = df['Country'].astype('char')"
   ]
  },
  {
   "cell_type": "code",
   "execution_count": 29,
   "id": "e8d94c6d",
   "metadata": {},
   "outputs": [],
   "source": [
    "#remove outliers\n",
    "df = df[(np.abs(stats.zscore(df.select_dtypes(include=[np.number]))) < 3).all(axis=1)]\n"
   ]
  },
  {
   "cell_type": "code",
   "execution_count": 30,
   "id": "966c16a5",
   "metadata": {},
   "outputs": [
    {
     "name": "stdout",
     "output_type": "stream",
     "text": [
      "Data Cleaning is completed. Cleaned data set saved\n"
     ]
    }
   ],
   "source": [
    "#save cleaned dataset\n",
    "df.to_csv('C:\\\\Users\\\\siddh\\\\Downloads\\\\Cleaned_Gender_Inequality_Index.csv', index = False)\n",
    "print(\"Data Cleaning is completed. Cleaned data set saved\")"
   ]
  },
  {
   "cell_type": "code",
   "execution_count": null,
   "id": "44ceea72",
   "metadata": {},
   "outputs": [],
   "source": []
  }
 ],
 "metadata": {
  "kernelspec": {
   "display_name": "Python 3 (ipykernel)",
   "language": "python",
   "name": "python3"
  },
  "language_info": {
   "codemirror_mode": {
    "name": "ipython",
    "version": 3
   },
   "file_extension": ".py",
   "mimetype": "text/x-python",
   "name": "python",
   "nbconvert_exporter": "python",
   "pygments_lexer": "ipython3",
   "version": "3.11.5"
  }
 },
 "nbformat": 4,
 "nbformat_minor": 5
}
